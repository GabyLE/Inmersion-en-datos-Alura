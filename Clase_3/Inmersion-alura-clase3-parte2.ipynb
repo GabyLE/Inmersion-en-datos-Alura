{
 "cells": [
  {
   "cell_type": "code",
   "execution_count": 32,
   "id": "2584fd56",
   "metadata": {},
   "outputs": [],
   "source": [
    "# import modules\n",
    "import pandas as pd\n",
    "import matplotlib.pyplot as plt\n",
    "import seaborn as sns"
   ]
  },
  {
   "cell_type": "code",
   "execution_count": 33,
   "id": "1cd4ea49",
   "metadata": {},
   "outputs": [
    {
     "data": {
      "text/html": [
       "<div>\n",
       "<style scoped>\n",
       "    .dataframe tbody tr th:only-of-type {\n",
       "        vertical-align: middle;\n",
       "    }\n",
       "\n",
       "    .dataframe tbody tr th {\n",
       "        vertical-align: top;\n",
       "    }\n",
       "\n",
       "    .dataframe thead th {\n",
       "        text-align: right;\n",
       "    }\n",
       "</style>\n",
       "<table border=\"1\" class=\"dataframe\">\n",
       "  <thead>\n",
       "    <tr style=\"text-align: right;\">\n",
       "      <th></th>\n",
       "      <th>DIRECTORIO</th>\n",
       "      <th>DPTO</th>\n",
       "      <th>MPIO</th>\n",
       "      <th>CLASE</th>\n",
       "      <th>COD_LOCALIDAD</th>\n",
       "      <th>NOMBRE_LOCALIDAD</th>\n",
       "      <th>COD_UPZ_GRUPO</th>\n",
       "      <th>NOMBRE_UPZ_GRUPO</th>\n",
       "      <th>ESTRATO2021</th>\n",
       "      <th>NOMBRE_ESTRATO</th>\n",
       "      <th>FEX_C</th>\n",
       "    </tr>\n",
       "  </thead>\n",
       "  <tbody>\n",
       "    <tr>\n",
       "      <th>0</th>\n",
       "      <td>3004346.0</td>\n",
       "      <td>11</td>\n",
       "      <td>11001</td>\n",
       "      <td>1</td>\n",
       "      <td>3.0</td>\n",
       "      <td>Santa Fe</td>\n",
       "      <td>814.0</td>\n",
       "      <td>SANTA FE: Las Nieves + Sagrado Corazón</td>\n",
       "      <td>11001187</td>\n",
       "      <td>SANTA FE: Las Nieves + Sagrado Corazón</td>\n",
       "      <td>13,2266692027239</td>\n",
       "    </tr>\n",
       "    <tr>\n",
       "      <th>1</th>\n",
       "      <td>3004347.0</td>\n",
       "      <td>11</td>\n",
       "      <td>11001</td>\n",
       "      <td>1</td>\n",
       "      <td>14.0</td>\n",
       "      <td>Los Mártires</td>\n",
       "      <td>37.0</td>\n",
       "      <td>Santa Isabel</td>\n",
       "      <td>11001162</td>\n",
       "      <td>Santa Isabel</td>\n",
       "      <td>17,8555889419101</td>\n",
       "    </tr>\n",
       "    <tr>\n",
       "      <th>2</th>\n",
       "      <td>3004348.0</td>\n",
       "      <td>11</td>\n",
       "      <td>11001</td>\n",
       "      <td>1</td>\n",
       "      <td>3.0</td>\n",
       "      <td>Santa Fe</td>\n",
       "      <td>814.0</td>\n",
       "      <td>SANTA FE: Las Nieves + Sagrado Corazón</td>\n",
       "      <td>11001187</td>\n",
       "      <td>SANTA FE: Las Nieves + Sagrado Corazón</td>\n",
       "      <td>10,0286103658331</td>\n",
       "    </tr>\n",
       "    <tr>\n",
       "      <th>3</th>\n",
       "      <td>3004349.0</td>\n",
       "      <td>11</td>\n",
       "      <td>11001</td>\n",
       "      <td>1</td>\n",
       "      <td>1.0</td>\n",
       "      <td>Usaquén</td>\n",
       "      <td>803.0</td>\n",
       "      <td>USAQUÉN: Country Club + Santa Bárbara</td>\n",
       "      <td>11001176</td>\n",
       "      <td>USAQUÉN: Country Club + Santa Bárbara</td>\n",
       "      <td>28,6502122142802</td>\n",
       "    </tr>\n",
       "    <tr>\n",
       "      <th>4</th>\n",
       "      <td>3004350.0</td>\n",
       "      <td>11</td>\n",
       "      <td>11001</td>\n",
       "      <td>1</td>\n",
       "      <td>1.0</td>\n",
       "      <td>Usaquén</td>\n",
       "      <td>803.0</td>\n",
       "      <td>USAQUÉN: Country Club + Santa Bárbara</td>\n",
       "      <td>11001176</td>\n",
       "      <td>USAQUÉN: Country Club + Santa Bárbara</td>\n",
       "      <td>24,4684068319009</td>\n",
       "    </tr>\n",
       "  </tbody>\n",
       "</table>\n",
       "</div>"
      ],
      "text/plain": [
       "   DIRECTORIO  DPTO   MPIO  CLASE  COD_LOCALIDAD NOMBRE_LOCALIDAD  \\\n",
       "0   3004346.0    11  11001      1            3.0         Santa Fe   \n",
       "1   3004347.0    11  11001      1           14.0     Los Mártires   \n",
       "2   3004348.0    11  11001      1            3.0         Santa Fe   \n",
       "3   3004349.0    11  11001      1            1.0          Usaquén   \n",
       "4   3004350.0    11  11001      1            1.0          Usaquén   \n",
       "\n",
       "   COD_UPZ_GRUPO                        NOMBRE_UPZ_GRUPO  ESTRATO2021  \\\n",
       "0          814.0  SANTA FE: Las Nieves + Sagrado Corazón     11001187   \n",
       "1           37.0                            Santa Isabel     11001162   \n",
       "2          814.0  SANTA FE: Las Nieves + Sagrado Corazón     11001187   \n",
       "3          803.0   USAQUÉN: Country Club + Santa Bárbara     11001176   \n",
       "4          803.0   USAQUÉN: Country Club + Santa Bárbara     11001176   \n",
       "\n",
       "                           NOMBRE_ESTRATO             FEX_C  \n",
       "0  SANTA FE: Las Nieves + Sagrado Corazón  13,2266692027239  \n",
       "1                            Santa Isabel  17,8555889419101  \n",
       "2  SANTA FE: Las Nieves + Sagrado Corazón  10,0286103658331  \n",
       "3   USAQUÉN: Country Club + Santa Bárbara  28,6502122142802  \n",
       "4   USAQUÉN: Country Club + Santa Bárbara  24,4684068319009  "
      ]
     },
     "execution_count": 33,
     "metadata": {},
     "output_type": "execute_result"
    }
   ],
   "source": [
    "datos_raw = pd.read_csv('archivos-dane/identificacion-capitulo-a.csv', sep=';', encoding='latin-1')\n",
    "datos_raw.head()"
   ]
  },
  {
   "cell_type": "code",
   "execution_count": 34,
   "id": "b6ff0c6b",
   "metadata": {},
   "outputs": [
    {
     "data": {
      "text/plain": [
       "(106467, 11)"
      ]
     },
     "execution_count": 34,
     "metadata": {},
     "output_type": "execute_result"
    }
   ],
   "source": [
    "datos_raw.shape"
   ]
  },
  {
   "cell_type": "code",
   "execution_count": 35,
   "id": "453e2388",
   "metadata": {},
   "outputs": [
    {
     "data": {
      "text/plain": [
       "(86504, 11)"
      ]
     },
     "execution_count": 35,
     "metadata": {},
     "output_type": "execute_result"
    }
   ],
   "source": [
    "datos_raw = datos_raw.loc[datos_raw.MPIO == 11001]\n",
    "datos_raw.shape"
   ]
  },
  {
   "cell_type": "code",
   "execution_count": 36,
   "id": "066796fd",
   "metadata": {},
   "outputs": [],
   "source": [
    "datos_b = pd.read_csv('archivos-dane/Datos de la vivenda y su entorno (Capítulo B).csv', sep=';', encoding='latin-1', low_memory = False)\n",
    "datos_c = pd.read_csv('archivos-dane/Condiciones habitacionales del hogar (Capítulo C).csv', sep=';', encoding='latin-1', low_memory = False)\n",
    "datos_e = pd.read_csv('archivos-dane/Composición del hogar y demografía (Capítulo E).csv', sep=';', encoding='latin-1', low_memory = False)\n",
    "datos_h = pd.read_csv('archivos-dane/Educación (Capítulo H).csv', sep=';', encoding='latin-1', low_memory = False)\n",
    "datos_l = pd.read_csv('archivos-dane/Percepción sobre las condiciones de vida y el desempeño institucional (Capítulo L).csv', sep=';', encoding='latin-1', low_memory = False)\n",
    "datos_k = pd.read_csv('archivos-dane/Fuerza de trabajo (Capítulo K).csv', sep=';', encoding='latin-1', low_memory = False)"
   ]
  },
  {
   "cell_type": "code",
   "execution_count": 37,
   "id": "621a1878",
   "metadata": {},
   "outputs": [
    {
     "data": {
      "text/plain": [
       "(86504, 73)"
      ]
     },
     "execution_count": 37,
     "metadata": {},
     "output_type": "execute_result"
    }
   ],
   "source": [
    "datos_dane = pd.merge(datos_raw, datos_b, on='DIRECTORIO', how='left')\n",
    "datos_dane.shape"
   ]
  },
  {
   "cell_type": "code",
   "execution_count": 38,
   "id": "60233a19",
   "metadata": {},
   "outputs": [
    {
     "data": {
      "text/plain": [
       "(235103, 140)"
      ]
     },
     "execution_count": 38,
     "metadata": {},
     "output_type": "execute_result"
    }
   ],
   "source": [
    "datos_dane = pd.merge(datos_dane, datos_e, on='DIRECTORIO', how='left')\n",
    "datos_dane.shape"
   ]
  },
  {
   "cell_type": "code",
   "execution_count": 40,
   "id": "7814498c",
   "metadata": {},
   "outputs": [
    {
     "data": {
      "text/plain": [
       "(238559, 281)"
      ]
     },
     "execution_count": 40,
     "metadata": {},
     "output_type": "execute_result"
    }
   ],
   "source": [
    "datos_dane = pd.merge(datos_dane, datos_c, on='DIRECTORIO', how='left', suffixes=('_left', '_right'))\n",
    "datos_dane.shape"
   ]
  },
  {
   "cell_type": "code",
   "execution_count": 41,
   "id": "5b0891cd",
   "metadata": {},
   "outputs": [
    {
     "name": "stdout",
     "output_type": "stream",
     "text": [
      "<class 'pandas.core.frame.DataFrame'>\n",
      "RangeIndex: 238559 entries, 0 to 238558\n",
      "Columns: 281 entries, DIRECTORIO to FEX_C_right\n",
      "dtypes: float64(140), int64(126), object(15)\n",
      "memory usage: 511.4+ MB\n"
     ]
    }
   ],
   "source": [
    "datos_dane.info()"
   ]
  }
 ],
 "metadata": {
  "kernelspec": {
   "display_name": "Python 3 (ipykernel)",
   "language": "python",
   "name": "python3"
  },
  "language_info": {
   "codemirror_mode": {
    "name": "ipython",
    "version": 3
   },
   "file_extension": ".py",
   "mimetype": "text/x-python",
   "name": "python",
   "nbconvert_exporter": "python",
   "pygments_lexer": "ipython3",
   "version": "3.10.7"
  }
 },
 "nbformat": 4,
 "nbformat_minor": 5
}
