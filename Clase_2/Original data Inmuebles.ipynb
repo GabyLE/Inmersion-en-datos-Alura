{
 "cells": [
  {
   "cell_type": "code",
   "execution_count": 1,
   "id": "a8d954c4",
   "metadata": {},
   "outputs": [
    {
     "data": {
      "text/html": [
       "<div>\n",
       "<style scoped>\n",
       "    .dataframe tbody tr th:only-of-type {\n",
       "        vertical-align: middle;\n",
       "    }\n",
       "\n",
       "    .dataframe tbody tr th {\n",
       "        vertical-align: top;\n",
       "    }\n",
       "\n",
       "    .dataframe thead th {\n",
       "        text-align: right;\n",
       "    }\n",
       "</style>\n",
       "<table border=\"1\" class=\"dataframe\">\n",
       "  <thead>\n",
       "    <tr style=\"text-align: right;\">\n",
       "      <th></th>\n",
       "      <th>Tipo</th>\n",
       "      <th>Descripcion</th>\n",
       "      <th>Localizacion</th>\n",
       "      <th>Atributos</th>\n",
       "      <th>Valor</th>\n",
       "    </tr>\n",
       "  </thead>\n",
       "  <tbody>\n",
       "    <tr>\n",
       "      <th>0</th>\n",
       "      <td>Apartamento</td>\n",
       "      <td>Apartamento en venta en Zona Noroccidental</td>\n",
       "      <td>Zona Noroccidental, Bogotá D.C, Cundinamarca</td>\n",
       "      <td>3 habitaciones2 baños70 m²</td>\n",
       "      <td>$ 360.000.000</td>\n",
       "    </tr>\n",
       "    <tr>\n",
       "      <th>1</th>\n",
       "      <td>Casa</td>\n",
       "      <td>Casa en venta en Castilla</td>\n",
       "      <td>Castilla, Kennedy, Zona Suroccidental, Bogotá ...</td>\n",
       "      <td>4 habitaciones3 baños170 m²</td>\n",
       "      <td>$ 670.000.000</td>\n",
       "    </tr>\n",
       "    <tr>\n",
       "      <th>2</th>\n",
       "      <td>Apartamento</td>\n",
       "      <td>Apartamento en venta en Chico Reservado</td>\n",
       "      <td>Chico Reservado, Chapinero, Zona Chapinero, Bo...</td>\n",
       "      <td>3 habitaciones3 baños144 / 144 m²</td>\n",
       "      <td>$ 1.120.000.000</td>\n",
       "    </tr>\n",
       "    <tr>\n",
       "      <th>3</th>\n",
       "      <td>Apartamento</td>\n",
       "      <td>Apartamento en venta en Usaquén</td>\n",
       "      <td>Usaquén, Zona Norte, Bogotá D.C, Cundinamarca</td>\n",
       "      <td>3 habitaciones2 baños154 / 134 m²</td>\n",
       "      <td>$ 890.000.000</td>\n",
       "    </tr>\n",
       "    <tr>\n",
       "      <th>4</th>\n",
       "      <td>Apartamento</td>\n",
       "      <td>Apartamento en venta en Bella Suiza</td>\n",
       "      <td>Bella Suiza, Usaquén, Zona Norte, Bogotá D.C, ...</td>\n",
       "      <td>2 habitaciones3 baños128 m²</td>\n",
       "      <td>$ 970.000.000</td>\n",
       "    </tr>\n",
       "  </tbody>\n",
       "</table>\n",
       "</div>"
      ],
      "text/plain": [
       "          Tipo                                 Descripcion  \\\n",
       "0  Apartamento  Apartamento en venta en Zona Noroccidental   \n",
       "1         Casa                   Casa en venta en Castilla   \n",
       "2  Apartamento     Apartamento en venta en Chico Reservado   \n",
       "3  Apartamento             Apartamento en venta en Usaquén   \n",
       "4  Apartamento         Apartamento en venta en Bella Suiza   \n",
       "\n",
       "                                        Localizacion  \\\n",
       "0       Zona Noroccidental, Bogotá D.C, Cundinamarca   \n",
       "1  Castilla, Kennedy, Zona Suroccidental, Bogotá ...   \n",
       "2  Chico Reservado, Chapinero, Zona Chapinero, Bo...   \n",
       "3      Usaquén, Zona Norte, Bogotá D.C, Cundinamarca   \n",
       "4  Bella Suiza, Usaquén, Zona Norte, Bogotá D.C, ...   \n",
       "\n",
       "                           Atributos            Valor  \n",
       "0         3 habitaciones2 baños70 m²    $ 360.000.000  \n",
       "1        4 habitaciones3 baños170 m²    $ 670.000.000  \n",
       "2  3 habitaciones3 baños144 / 144 m²  $ 1.120.000.000  \n",
       "3  3 habitaciones2 baños154 / 134 m²    $ 890.000.000  \n",
       "4        2 habitaciones3 baños128 m²    $ 970.000.000  "
      ]
     },
     "execution_count": 1,
     "metadata": {},
     "output_type": "execute_result"
    }
   ],
   "source": [
    "import pandas as pd\n",
    "\n",
    "inmuebles_original = pd.read_csv('../data/inmuebles.csv')\n",
    "inmuebles_original.head()"
   ]
  },
  {
   "cell_type": "code",
   "execution_count": 2,
   "id": "5648c697",
   "metadata": {},
   "outputs": [
    {
     "name": "stdout",
     "output_type": "stream",
     "text": [
      "<class 'pandas.core.frame.DataFrame'>\n",
      "RangeIndex: 9520 entries, 0 to 9519\n",
      "Data columns (total 5 columns):\n",
      " #   Column        Non-Null Count  Dtype \n",
      "---  ------        --------------  ----- \n",
      " 0   Tipo          9520 non-null   object\n",
      " 1   Descripcion   9520 non-null   object\n",
      " 2   Localizacion  9520 non-null   object\n",
      " 3   Atributos     9520 non-null   object\n",
      " 4   Valor         9520 non-null   object\n",
      "dtypes: object(5)\n",
      "memory usage: 372.0+ KB\n"
     ]
    }
   ],
   "source": [
    "inmuebles_original.info()"
   ]
  },
  {
   "cell_type": "code",
   "execution_count": 29,
   "id": "03b6deed",
   "metadata": {},
   "outputs": [
    {
     "data": {
      "text/plain": [
       "0        [Zona Noroccidental,  Bogotá D.C,  Cundinamarca]\n",
       "1       [Castilla,  Kennedy,  Zona Suroccidental,  Bog...\n",
       "2       [Chico Reservado,  Chapinero,  Zona Chapinero,...\n",
       "3       [Usaquén,  Zona Norte,  Bogotá D.C,  Cundinama...\n",
       "4       [Bella Suiza,  Usaquén,  Zona Norte,  Bogotá D...\n",
       "                              ...                        \n",
       "9515    [Kennedy,  Zona Suroccidental,  Bogotá D.C,  C...\n",
       "9516    [Parque Central Bavaria,  Santa Fe,  Zona Cent...\n",
       "9517    [Restrepo,  Antonio Nariño,  Zona Sur,  Bogotá...\n",
       "9518    [Engativa,  Zona Occidental,  Bogotá D.C,  Cun...\n",
       "9519    [Tintala,  Kennedy,  Zona Suroccidental,  Bogo...\n",
       "Name: Localizacion, Length: 9520, dtype: object"
      ]
     },
     "execution_count": 29,
     "metadata": {},
     "output_type": "execute_result"
    }
   ],
   "source": [
    "localizacion = inmuebles_original['Localizacion'].str.split(',')\n",
    "localizacion"
   ]
  },
  {
   "cell_type": "code",
   "execution_count": 30,
   "id": "a5540f2e",
   "metadata": {},
   "outputs": [],
   "source": [
    "import numpy as np"
   ]
  },
  {
   "cell_type": "code",
   "execution_count": 45,
   "id": "5b1eb20e",
   "metadata": {},
   "outputs": [
    {
     "data": {
      "text/html": [
       "<div>\n",
       "<style scoped>\n",
       "    .dataframe tbody tr th:only-of-type {\n",
       "        vertical-align: middle;\n",
       "    }\n",
       "\n",
       "    .dataframe tbody tr th {\n",
       "        vertical-align: top;\n",
       "    }\n",
       "\n",
       "    .dataframe thead th {\n",
       "        text-align: right;\n",
       "    }\n",
       "</style>\n",
       "<table border=\"1\" class=\"dataframe\">\n",
       "  <thead>\n",
       "    <tr style=\"text-align: right;\">\n",
       "      <th></th>\n",
       "      <th>Tipo</th>\n",
       "      <th>Descripcion</th>\n",
       "      <th>Localizacion</th>\n",
       "      <th>Atributos</th>\n",
       "      <th>Valor</th>\n",
       "      <th>Zona</th>\n",
       "    </tr>\n",
       "  </thead>\n",
       "  <tbody>\n",
       "    <tr>\n",
       "      <th>0</th>\n",
       "      <td>Apartamento</td>\n",
       "      <td>Apartamento en venta en Zona Noroccidental</td>\n",
       "      <td>Zona Noroccidental, Bogotá D.C, Cundinamarca</td>\n",
       "      <td>3 habitaciones2 baños70 m²</td>\n",
       "      <td>$ 360.000.000</td>\n",
       "      <td>Zona Noroccidental</td>\n",
       "    </tr>\n",
       "    <tr>\n",
       "      <th>1</th>\n",
       "      <td>Casa</td>\n",
       "      <td>Casa en venta en Castilla</td>\n",
       "      <td>Castilla, Kennedy, Zona Suroccidental, Bogotá ...</td>\n",
       "      <td>4 habitaciones3 baños170 m²</td>\n",
       "      <td>$ 670.000.000</td>\n",
       "      <td>Zona Suroccidental</td>\n",
       "    </tr>\n",
       "    <tr>\n",
       "      <th>2</th>\n",
       "      <td>Apartamento</td>\n",
       "      <td>Apartamento en venta en Chico Reservado</td>\n",
       "      <td>Chico Reservado, Chapinero, Zona Chapinero, Bo...</td>\n",
       "      <td>3 habitaciones3 baños144 / 144 m²</td>\n",
       "      <td>$ 1.120.000.000</td>\n",
       "      <td>Zona Chapinero</td>\n",
       "    </tr>\n",
       "    <tr>\n",
       "      <th>3</th>\n",
       "      <td>Apartamento</td>\n",
       "      <td>Apartamento en venta en Usaquén</td>\n",
       "      <td>Usaquén, Zona Norte, Bogotá D.C, Cundinamarca</td>\n",
       "      <td>3 habitaciones2 baños154 / 134 m²</td>\n",
       "      <td>$ 890.000.000</td>\n",
       "      <td>Zona Norte</td>\n",
       "    </tr>\n",
       "    <tr>\n",
       "      <th>4</th>\n",
       "      <td>Apartamento</td>\n",
       "      <td>Apartamento en venta en Bella Suiza</td>\n",
       "      <td>Bella Suiza, Usaquén, Zona Norte, Bogotá D.C, ...</td>\n",
       "      <td>2 habitaciones3 baños128 m²</td>\n",
       "      <td>$ 970.000.000</td>\n",
       "      <td>Zona Norte</td>\n",
       "    </tr>\n",
       "  </tbody>\n",
       "</table>\n",
       "</div>"
      ],
      "text/plain": [
       "          Tipo                                 Descripcion  \\\n",
       "0  Apartamento  Apartamento en venta en Zona Noroccidental   \n",
       "1         Casa                   Casa en venta en Castilla   \n",
       "2  Apartamento     Apartamento en venta en Chico Reservado   \n",
       "3  Apartamento             Apartamento en venta en Usaquén   \n",
       "4  Apartamento         Apartamento en venta en Bella Suiza   \n",
       "\n",
       "                                        Localizacion  \\\n",
       "0       Zona Noroccidental, Bogotá D.C, Cundinamarca   \n",
       "1  Castilla, Kennedy, Zona Suroccidental, Bogotá ...   \n",
       "2  Chico Reservado, Chapinero, Zona Chapinero, Bo...   \n",
       "3      Usaquén, Zona Norte, Bogotá D.C, Cundinamarca   \n",
       "4  Bella Suiza, Usaquén, Zona Norte, Bogotá D.C, ...   \n",
       "\n",
       "                           Atributos            Valor                Zona  \n",
       "0         3 habitaciones2 baños70 m²    $ 360.000.000  Zona Noroccidental  \n",
       "1        4 habitaciones3 baños170 m²    $ 670.000.000  Zona Suroccidental  \n",
       "2  3 habitaciones3 baños144 / 144 m²  $ 1.120.000.000      Zona Chapinero  \n",
       "3  3 habitaciones2 baños154 / 134 m²    $ 890.000.000          Zona Norte  \n",
       "4        2 habitaciones3 baños128 m²    $ 970.000.000          Zona Norte  "
      ]
     },
     "execution_count": 45,
     "metadata": {},
     "output_type": "execute_result"
    }
   ],
   "source": [
    "def get_zone(lst):\n",
    "    for element in lst:\n",
    "        if 'zona' in element.lower():\n",
    "            return element.strip()\n",
    "    return None\n",
    "        \n",
    "inmuebles_original['Zona'] = localizacion.apply(get_zone)\n",
    "inmuebles_original.head()"
   ]
  },
  {
   "cell_type": "code",
   "execution_count": 41,
   "id": "62642202",
   "metadata": {},
   "outputs": [
    {
     "name": "stdout",
     "output_type": "stream",
     "text": [
      "<class 'pandas.core.frame.DataFrame'>\n",
      "RangeIndex: 9520 entries, 0 to 9519\n",
      "Data columns (total 6 columns):\n",
      " #   Column        Non-Null Count  Dtype \n",
      "---  ------        --------------  ----- \n",
      " 0   Tipo          9520 non-null   object\n",
      " 1   Descripcion   9520 non-null   object\n",
      " 2   Localizacion  9520 non-null   object\n",
      " 3   Atributos     9520 non-null   object\n",
      " 4   Valor         9520 non-null   object\n",
      " 5   Zona          9506 non-null   object\n",
      "dtypes: object(6)\n",
      "memory usage: 446.4+ KB\n"
     ]
    }
   ],
   "source": [
    "inmuebles_original.info()"
   ]
  },
  {
   "cell_type": "code",
   "execution_count": 42,
   "id": "e6decd61",
   "metadata": {},
   "outputs": [
    {
     "data": {
      "text/plain": [
       "array(['Zona Noroccidental', 'Zona Suroccidental', 'Zona Chapinero',\n",
       "       'Zona Norte', 'Zona Occidental', 'Zona Centro', 'Zona Sur', None,\n",
       "       'Zona Franca'], dtype=object)"
      ]
     },
     "execution_count": 42,
     "metadata": {},
     "output_type": "execute_result"
    }
   ],
   "source": [
    "inmuebles_original['Zona'].unique()"
   ]
  }
 ],
 "metadata": {
  "kernelspec": {
   "display_name": "Python 3 (ipykernel)",
   "language": "python",
   "name": "python3"
  },
  "language_info": {
   "codemirror_mode": {
    "name": "ipython",
    "version": 3
   },
   "file_extension": ".py",
   "mimetype": "text/x-python",
   "name": "python",
   "nbconvert_exporter": "python",
   "pygments_lexer": "ipython3",
   "version": "3.10.7"
  }
 },
 "nbformat": 4,
 "nbformat_minor": 5
}
